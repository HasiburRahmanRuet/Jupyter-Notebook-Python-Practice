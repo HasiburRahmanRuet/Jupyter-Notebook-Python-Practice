{
 "cells": [
  {
   "cell_type": "markdown",
   "metadata": {},
   "source": [
    "Introduction to Cease Cipher and Two Sum"
   ]
  },
  {
   "cell_type": "code",
   "execution_count": 18,
   "metadata": {},
   "outputs": [],
   "source": [
    "def ceaser_cipher(text, num):\n",
    "    index='abcdefghijklmnopqrstuvwxyz'\n",
    "    output=''\n",
    "    for ch in range(len(text)):\n",
    "        if text[ch].lower() not in index:\n",
    "          output=output+text[ch]\n",
    "        else:\n",
    "          output=output+index[(index.find(text[ch].lower())+num)%26]\n",
    "    return output"
   ]
  },
  {
   "cell_type": "code",
   "execution_count": 21,
   "metadata": {},
   "outputs": [],
   "source": [
    "cipher_text=ceaser_cipher('I am a good boy',1)"
   ]
  },
  {
   "cell_type": "code",
   "execution_count": 22,
   "metadata": {},
   "outputs": [
    {
     "data": {
      "text/plain": [
       "'j bn b hppe cpz'"
      ]
     },
     "execution_count": 22,
     "metadata": {},
     "output_type": "execute_result"
    }
   ],
   "source": [
    "cipher_text"
   ]
  },
  {
   "cell_type": "code",
   "execution_count": 23,
   "metadata": {},
   "outputs": [
    {
     "data": {
      "text/plain": [
       "'i am a good boy'"
      ]
     },
     "execution_count": 23,
     "metadata": {},
     "output_type": "execute_result"
    }
   ],
   "source": [
    "ceaser_cipher(cipher_text,-1)"
   ]
  },
  {
   "cell_type": "code",
   "execution_count": 24,
   "metadata": {},
   "outputs": [
    {
     "data": {
      "text/plain": [
       "'x pb wphxq'"
      ]
     },
     "execution_count": 24,
     "metadata": {},
     "output_type": "execute_result"
    }
   ],
   "source": [
    "ceaser_cipher('I am Hasib',15)"
   ]
  },
  {
   "cell_type": "code",
   "execution_count": 3,
   "metadata": {},
   "outputs": [],
   "source": [
    "def two_sum(a_list,summation):\n",
    "    f=0\n",
    "    for i in range(len(a_list)):\n",
    "        if summation-a_list[i] in a_list:\n",
    "            return i,a_list.index(summation-a_list[i])\n",
    "        else:\n",
    "            f=1\n",
    "    if f==1:\n",
    "        return -1\n",
    "            "
   ]
  },
  {
   "cell_type": "code",
   "execution_count": 5,
   "metadata": {},
   "outputs": [
    {
     "data": {
      "text/plain": [
       "-1"
      ]
     },
     "execution_count": 5,
     "metadata": {},
     "output_type": "execute_result"
    }
   ],
   "source": [
    "l=[1,2,3,5,6,8,4,5]\n",
    "two_sum(l,24)"
   ]
  },
  {
   "cell_type": "code",
   "execution_count": 18,
   "metadata": {},
   "outputs": [],
   "source": [
    "class card(object):\n",
    "    suits={'d':'Diamond','c':'Clubs','h': 'Heart', 's':'Spades'}\n",
    "    values={'a':'Ace','q': 'Queen', 'k': 'King', 'j': 'Jack', '1':1, '2': 2}\n",
    "    \n",
    "    def __init__(self,value,suit):\n",
    "        self.value=value\n",
    "        self.suit=suit\n",
    "    \n",
    "    def display_choice(self):\n",
    "       for k in self.values:\n",
    "        if k==self.value:\n",
    "            print(self.values[k])\n",
    "            \n",
    "                 "
   ]
  },
  {
   "cell_type": "code",
   "execution_count": 19,
   "metadata": {},
   "outputs": [],
   "source": [
    "ch=card('1','s')"
   ]
  },
  {
   "cell_type": "code",
   "execution_count": 20,
   "metadata": {},
   "outputs": [
    {
     "name": "stdout",
     "output_type": "stream",
     "text": [
      "1\n"
     ]
    }
   ],
   "source": [
    "ch.display_choice()"
   ]
  },
  {
   "cell_type": "code",
   "execution_count": 30,
   "metadata": {},
   "outputs": [],
   "source": [
    "values={'a':'Ace','q': 'Queen', 'k': 'King', 'j': 'Jack', '1':1, '2': 2}\n",
    "k,v=zip(*values.items())"
   ]
  },
  {
   "cell_type": "code",
   "execution_count": 31,
   "metadata": {},
   "outputs": [
    {
     "data": {
      "text/plain": [
       "('a', 'q', 'k', 'j', '1', '2')"
      ]
     },
     "execution_count": 31,
     "metadata": {},
     "output_type": "execute_result"
    }
   ],
   "source": [
    "k"
   ]
  },
  {
   "cell_type": "code",
   "execution_count": null,
   "metadata": {},
   "outputs": [],
   "source": []
  }
 ],
 "metadata": {
  "kernelspec": {
   "display_name": "Python 3",
   "language": "python",
   "name": "python3"
  },
  "language_info": {
   "codemirror_mode": {
    "name": "ipython",
    "version": 3
   },
   "file_extension": ".py",
   "mimetype": "text/x-python",
   "name": "python",
   "nbconvert_exporter": "python",
   "pygments_lexer": "ipython3",
   "version": "3.7.6"
  }
 },
 "nbformat": 4,
 "nbformat_minor": 4
}
