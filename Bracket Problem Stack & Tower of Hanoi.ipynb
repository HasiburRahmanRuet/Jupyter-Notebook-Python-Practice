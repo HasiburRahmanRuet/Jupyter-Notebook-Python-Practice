{
 "cells": [
  {
   "cell_type": "code",
   "execution_count": 23,
   "metadata": {},
   "outputs": [],
   "source": [
    "stack=['@']\n",
    "brackets='{[}]'"
   ]
  },
  {
   "cell_type": "code",
   "execution_count": 24,
   "metadata": {},
   "outputs": [
    {
     "name": "stdout",
     "output_type": "stream",
     "text": [
      "Not in right order\n"
     ]
    }
   ],
   "source": [
    "for i in brackets:\n",
    "    if i=='(':\n",
    "        stack.append(i) \n",
    "    elif i=='{':\n",
    "        if stack[-1]=='(':\n",
    "            print(\"Not in right order\")\n",
    "            break\n",
    "        else:\n",
    "            stack.append(i)\n",
    "    elif i=='[':\n",
    "        if stack[-1]=='(' or stack[-1]=='{':\n",
    "            print(\"Not in right order\")\n",
    "            break\n",
    "        else:\n",
    "            stack.append(i)\n",
    "    elif i==')':\n",
    "        if stack[-1]=='(':\n",
    "            stack.pop()\n",
    "        else:\n",
    "            print(\"Not in right order\")\n",
    "            break\n",
    "    elif i=='}':\n",
    "        if stack[-1]=='{':\n",
    "            stack.pop()\n",
    "        else:\n",
    "            print(\"Not in right order\")\n",
    "            break\n",
    "    else:\n",
    "        if stack[-1]=='[':\n",
    "            stack.pop()\n",
    "        else:\n",
    "            print(\"Not in right order\")\n",
    "            break\n",
    "\n",
    "if stack[-1]=='@':\n",
    "    print(\"Balanced\")\n",
    "        "
   ]
  },
  {
   "cell_type": "markdown",
   "metadata": {},
   "source": [
    "## Tower of Hanoi"
   ]
  },
  {
   "cell_type": "code",
   "execution_count": 25,
   "metadata": {},
   "outputs": [],
   "source": [
    "\n",
    "\n",
    "    "
   ]
  },
  {
   "cell_type": "code",
   "execution_count": null,
   "metadata": {},
   "outputs": [],
   "source": [
    "import pdb\n",
    "count=0\n",
    "def hanoi(a,b,c,n):\n",
    "    \n",
    "    global count\n",
    "    if n==1:\n",
    "        c.append(a.pop())\n",
    "        count+=1\n",
    "    else:\n",
    "        hanoi(a,c,b,n-1)\n",
    "        #print(f'{a}, {b}, {c}')\n",
    "       \n",
    "        hanoi(a,b,c,1)\n",
    "        #print(f'{a}, {b}, {c}')\n",
    "        \n",
    "        hanoi(b,a,c,n-1)\n",
    "        #print(f'{a}, {b}, {c}')\n",
    "        \n",
    "    print(count)\n",
    "    "
   ]
  },
  {
   "cell_type": "code",
   "execution_count": null,
   "metadata": {},
   "outputs": [],
   "source": [
    "a=[3,2,1]\n",
    "b=[]\n",
    "c=[]\n",
    "hanoi(a,b,c,3)"
   ]
  },
  {
   "cell_type": "code",
   "execution_count": null,
   "metadata": {},
   "outputs": [],
   "source": []
  },
  {
   "cell_type": "code",
   "execution_count": null,
   "metadata": {},
   "outputs": [],
   "source": []
  }
 ],
 "metadata": {
  "kernelspec": {
   "display_name": "Python 3",
   "language": "python",
   "name": "python3"
  },
  "language_info": {
   "codemirror_mode": {
    "name": "ipython",
    "version": 3
   },
   "file_extension": ".py",
   "mimetype": "text/x-python",
   "name": "python",
   "nbconvert_exporter": "python",
   "pygments_lexer": "ipython3",
   "version": "3.7.6"
  }
 },
 "nbformat": 4,
 "nbformat_minor": 4
}
